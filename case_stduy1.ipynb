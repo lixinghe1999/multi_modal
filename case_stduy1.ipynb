{
 "cells": [
  {
   "cell_type": "markdown",
   "source": [
    "This case study investigate how the model perform with devices\n",
    "Findings:\n",
    "1) CPU: computation correlates to latency (in all cases)\n",
    "2) GPU:\n",
    "    1. when the computation requirement is low (either small batch_size or small token_length), computation reduction doesn't reflect latency reduction.\n",
    "    2. Two branch model takes two times latency, even it is possible to execute parallel.\n",
    "       Have tried torch.jit.script & trace, no improvement"
   ],
   "metadata": {
    "collapsed": false,
    "pycharm": {
     "name": "#%% md\n"
    }
   }
  },
  {
   "cell_type": "code",
   "execution_count": 1,
   "metadata": {
    "collapsed": true,
    "pycharm": {
     "name": "#%%\n"
    }
   },
   "outputs": [],
   "source": [
    "'''\n",
    "A jupyter notebook to show how the CUDA acceleration works\n",
    "'''\n",
    "import torch.nn as nn\n",
    "import torch\n",
    "import time\n",
    "from model.vit_model import Block\n",
    "\n",
    "class DummyModel(nn.Module):\n",
    "    def __init__(self, depth=12, embed_dim=768, num_heads=12, mlp_ratio=4):\n",
    "        super().__init__()\n",
    "        self.model = nn.ModuleList([\n",
    "            Block(dim=embed_dim, num_heads=num_heads, mlp_ratio=mlp_ratio)\n",
    "            for _ in range(depth)])\n",
    "    def forward(self, x):\n",
    "        for blk in self.model:\n",
    "            x = blk(x)\n",
    "        return x\n",
    "\n",
    "class Multi_DummyModel(nn.Module):\n",
    "    def __init__(self, depth=12, embed_dim=768, num_heads=12, mlp_ratio=4):\n",
    "        super().__init__()\n",
    "        self.model1 = nn.ModuleList([\n",
    "            Block(dim=embed_dim, num_heads=num_heads, mlp_ratio=mlp_ratio)\n",
    "            for _ in range(depth)])\n",
    "        self.model2 = nn.ModuleList([\n",
    "            Block(dim=embed_dim, num_heads=num_heads, mlp_ratio=mlp_ratio)\n",
    "            for _ in range(depth)])\n",
    "\n",
    "    def forward(self, x):\n",
    "        x1 = x.clone()\n",
    "        x2 = x.clone()\n",
    "        for blk1, blk2 in zip(self.model1, self.model2):\n",
    "            x1 = blk1(x1)\n",
    "            x2 = blk2(x2)\n",
    "            # future = torch.jit.fork(blk1, x1)\n",
    "            # x2 = blk2(x2)\n",
    "            # x1 = torch.jit.wait(future)\n",
    "        return x1, x2"
   ]
  },
  {
   "cell_type": "code",
   "execution_count": 2,
   "outputs": [],
   "source": [
    "def throughput(images, model):\n",
    "    model.eval()\n",
    "    batch_size, token_length = images.shape[0:2]\n",
    "    for i in range(50):\n",
    "        model(images)\n",
    "    torch.cuda.synchronize()\n",
    "    tic1 = time.time()\n",
    "    for i in range(30):\n",
    "        model(images)\n",
    "    torch.cuda.synchronize()\n",
    "    tic2 = time.time()\n",
    "    print(f\"batch_size {batch_size} token_length {token_length} throughput {30 * batch_size / (tic2 - tic1)}\")\n",
    "    MB = 1024.0 * 1024.0\n",
    "    print('memory:', torch.cuda.max_memory_reserved() / MB)"
   ],
   "metadata": {
    "collapsed": false,
    "pycharm": {
     "name": "#%%\n"
    }
   }
  },
  {
   "cell_type": "code",
   "execution_count": 5,
   "outputs": [
    {
     "name": "stdout",
     "output_type": "stream",
     "text": [
      "batch_size 32 token_length 194 throughput 134.16930629735728\n",
      "memory: 11546.0\n"
     ]
    }
   ],
   "source": [
    "device = 'cuda'\n",
    "model = DummyModel().to(device)\n",
    "data = torch.rand((32, 194, 768)).to(device)\n",
    "throughput(data, model)"
   ],
   "metadata": {
    "collapsed": false,
    "pycharm": {
     "name": "#%%\n"
    }
   }
  },
  {
   "cell_type": "code",
   "execution_count": 141,
   "outputs": [
    {
     "name": "stdout",
     "output_type": "stream",
     "text": [
      "batch_size 1 token_length 197 throughput 117.64700602497504\n",
      "memory: 11534.0\n"
     ]
    }
   ],
   "source": [
    "device = 'cuda'\n",
    "model = DummyModel().to(device)\n",
    "data = torch.rand((1, 197, 768)).to(device)\n",
    "throughput(data, model)"
   ],
   "metadata": {
    "collapsed": false,
    "pycharm": {
     "name": "#%%\n"
    }
   }
  },
  {
   "cell_type": "code",
   "execution_count": 150,
   "outputs": [
    {
     "name": "stdout",
     "output_type": "stream",
     "text": [
      "batch_size 1 token_length 197 throughput 58.027110558951215\n",
      "memory: 11534.0\n"
     ]
    }
   ],
   "source": [
    "import gc\n",
    "device = 'cuda'\n",
    "gc.collect()\n",
    "torch.cuda.empty_cache()\n",
    "\n",
    "model = Multi_DummyModel().to(device, non_blocking=True)\n",
    "data = torch.rand((1, 197, 768)).to(device, non_blocking=True)\n",
    "throughput(data, model)"
   ],
   "metadata": {
    "collapsed": false,
    "pycharm": {
     "name": "#%%\n"
    }
   }
  },
  {
   "cell_type": "code",
   "execution_count": 151,
   "outputs": [
    {
     "name": "stdout",
     "output_type": "stream",
     "text": [
      "batch_size 1 token_length 197 throughput 56.81814364167879\n",
      "memory: 11534.0\n"
     ]
    }
   ],
   "source": [
    "device = 'cuda'\n",
    "gc.collect()\n",
    "torch.cuda.empty_cache()\n",
    "model = Multi_DummyModel().to(device, non_blocking=True)\n",
    "data = torch.rand((1, 197, 768)).to(device, non_blocking=True)\n",
    "scripted_model = torch.jit.trace(model, example_inputs=(data))\n",
    "throughput(data, scripted_model)"
   ],
   "metadata": {
    "collapsed": false,
    "pycharm": {
     "name": "#%%\n"
    }
   }
  },
  {
   "cell_type": "code",
   "execution_count": null,
   "outputs": [],
   "source": [],
   "metadata": {
    "collapsed": false,
    "pycharm": {
     "name": "#%%\n"
    }
   }
  }
 ],
 "metadata": {
  "kernelspec": {
   "display_name": "Python 3",
   "language": "python",
   "name": "python3"
  },
  "language_info": {
   "codemirror_mode": {
    "name": "ipython",
    "version": 2
   },
   "file_extension": ".py",
   "mimetype": "text/x-python",
   "name": "python",
   "nbconvert_exporter": "python",
   "pygments_lexer": "ipython2",
   "version": "2.7.6"
  }
 },
 "nbformat": 4,
 "nbformat_minor": 0
}