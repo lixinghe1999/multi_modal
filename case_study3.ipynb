{
 "cells": [
  {
   "cell_type": "markdown",
   "source": [
    "MobileNet is slower than ResNet34, when: cuda + batch_size=1\n",
    "else: MobileNet is faster than ResNet34"
   ],
   "metadata": {
    "collapsed": false,
    "pycharm": {
     "name": "#%% md\n"
    }
   }
  },
  {
   "cell_type": "code",
   "execution_count": 21,
   "metadata": {
    "collapsed": true,
    "pycharm": {
     "name": "#%%\n"
    }
   },
   "outputs": [],
   "source": [
    "from model.mobilenet import MobileNetV3_Small, MobileNetV3_Large\n",
    "from model.resnet34 import ResNet\n",
    "import clip\n",
    "import torch\n",
    "import time\n",
    "device = 'cpu'\n",
    "batch_size = 1\n",
    "non_blocking = True\n",
    "def throughput(images, model):\n",
    "    model.eval()\n",
    "    batch_size, token_length = images[0].shape[0:2]\n",
    "    for i in range(50):\n",
    "        model(*images)\n",
    "    torch.cuda.synchronize()\n",
    "    tic1 = time.time()\n",
    "    for i in range(100):\n",
    "        model(*images)\n",
    "    torch.cuda.synchronize()\n",
    "    tic2 = time.time()\n",
    "    print(f\"batch_size {batch_size} token_length {token_length} throughput {100 * batch_size / (tic2 - tic1)}\")\n",
    "    MB = 1024.0 * 1024.0\n",
    "    print('memory:', torch.cuda.max_memory_reserved() / MB)\n",
    "    return (tic2 - tic1) / (100 * batch_size)"
   ]
  },
  {
   "cell_type": "code",
   "execution_count": 14,
   "outputs": [
    {
     "name": "stdout",
     "output_type": "stream",
     "text": [
      "batch_size 1 token_length 3 throughput 114.94270135232865\n",
      "memory: 1538.0\n",
      "0.008699986934661865\n"
     ]
    }
   ],
   "source": [
    "model = MobileNetV3_Small().to(device, non_blocking=non_blocking)\n",
    "data = torch.rand((batch_size, 3, 224, 224)).to(device, non_blocking=non_blocking)\n",
    "latency = throughput([data], model)\n",
    "print(latency)"
   ],
   "metadata": {
    "collapsed": false,
    "pycharm": {
     "name": "#%%\n"
    }
   }
  },
  {
   "cell_type": "code",
   "execution_count": 15,
   "outputs": [
    {
     "name": "stdout",
     "output_type": "stream",
     "text": [
      "batch_size 1 token_length 3 throughput 176.05623988925296\n",
      "memory: 1544.0\n",
      "0.0056800031661987304\n"
     ]
    }
   ],
   "source": [
    "model = ResNet(img_channels=3, layers=(3,4,6,3)).to(device, non_blocking=non_blocking)\n",
    "data = torch.rand((batch_size, 3, 224, 224)).to(device, non_blocking=non_blocking)\n",
    "latency = throughput([data], model)\n",
    "print(latency)"
   ],
   "metadata": {
    "collapsed": false,
    "pycharm": {
     "name": "#%%\n"
    }
   }
  },
  {
   "cell_type": "code",
   "execution_count": 22,
   "outputs": [
    {
     "name": "stdout",
     "output_type": "stream",
     "text": [
      "batch_size 1 throughput 116.00925019589317\n",
      "memory: 606.0\n",
      "0.008620002269744874\n"
     ]
    }
   ],
   "source": [
    "names = ['ViT-L/14', 'ViT-B/16', '\"RN101\"']\n",
    "for name in names:\n",
    "    model, preprocess = clip.load(name, device=device)\n",
    "    image = torch.rand((batch_size, 3, 224, 224)).to(device, non_blocking=non_blocking)\n",
    "    text = clip.tokenize([\"a diagram\", \"a dog\", \"a cat\"]).to(device)\n",
    "\n",
    "    model.eval()\n",
    "    batch_size, token_length = image.shape[0:2]\n",
    "    for i in range(50):\n",
    "        image_features = model.encode_image(image)\n",
    "        # text_features = model.encode_text(text)\n",
    "    torch.cuda.synchronize()\n",
    "    tic1 = time.time()\n",
    "    for i in range(100):\n",
    "         image_features = model.encode_image(image)\n",
    "    torch.cuda.synchronize()\n",
    "    tic2 = time.time()\n",
    "    print(f\"batch_size {batch_size} throughput {100 * batch_size / (tic2 - tic1)}\")\n",
    "    MB = 1024.0 * 1024.0\n",
    "    print('memory:', torch.cuda.max_memory_reserved() / MB)\n",
    "    print((tic2 - tic1) / (100 * batch_size))"
   ],
   "metadata": {
    "collapsed": false,
    "pycharm": {
     "name": "#%%\n"
    }
   }
  },
  {
   "cell_type": "code",
   "execution_count": null,
   "outputs": [],
   "source": [],
   "metadata": {
    "collapsed": false,
    "pycharm": {
     "name": "#%%\n"
    }
   }
  }
 ],
 "metadata": {
  "kernelspec": {
   "display_name": "Python 3",
   "language": "python",
   "name": "python3"
  },
  "language_info": {
   "codemirror_mode": {
    "name": "ipython",
    "version": 2
   },
   "file_extension": ".py",
   "mimetype": "text/x-python",
   "name": "python",
   "nbconvert_exporter": "python",
   "pygments_lexer": "ipython2",
   "version": "2.7.6"
  }
 },
 "nbformat": 4,
 "nbformat_minor": 0
}